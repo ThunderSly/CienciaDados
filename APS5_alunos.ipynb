{
 "cells": [
  {
   "cell_type": "markdown",
   "metadata": {},
   "source": [
    "# APS 5 - Questões com auxílio do Pandas"
   ]
  },
  {
   "cell_type": "markdown",
   "metadata": {},
   "source": [
    "** Nome: ** <font color=blue> Bruno Arruda Camargo Paulino Costa </font>\n"
   ]
  },
  {
   "cell_type": "markdown",
   "metadata": {},
   "source": [
    "APS **INDIVIDUAL**\n",
    "\n",
    "Data de Entrega: 26/Set até às 23h59 via GitHub.\n",
    "\n",
    "Vamos trabalhar com dados do USGS (United States Geological Survey) para tentar determinar se os abalos detectados no hemisfério Norte têm grande probabilidade de serem testes nucleares."
   ]
  },
  {
   "cell_type": "code",
   "execution_count": 43,
   "metadata": {
    "collapsed": true
   },
   "outputs": [],
   "source": [
    "%matplotlib inline\n",
    "import pandas as pd\n",
    "import numpy as np\n",
    "import matplotlib.pyplot as plt\n",
    "from scipy import stats"
   ]
  },
  {
   "cell_type": "code",
   "execution_count": 44,
   "metadata": {},
   "outputs": [
    {
     "name": "stdout",
     "output_type": "stream",
     "text": [
      "['Date', 'Time', 'Latitude', 'Longitude', 'Type', 'Depth', 'Depth Error', 'Depth Seismic Stations', 'Magnitude', 'Magnitude Type', 'Magnitude Error', 'Magnitude Seismic Stations', 'Azimuthal Gap', 'Horizontal Distance', 'Horizontal Error', 'Root Mean Square', 'ID', 'Source', 'Location Source', 'Magnitude Source', 'Status']\n"
     ]
    }
   ],
   "source": [
    "#Abrir o arquivo\n",
    "df = pd.read_csv('earthquake.csv')\n",
    "#listar colunas\n",
    "print(list(df))"
   ]
  },
  {
   "cell_type": "markdown",
   "metadata": {},
   "source": [
    "## Liste as primeiras linhas do DataFrame"
   ]
  },
  {
   "cell_type": "code",
   "execution_count": 45,
   "metadata": {},
   "outputs": [
    {
     "data": {
      "text/html": [
       "<div>\n",
       "<style>\n",
       "    .dataframe thead tr:only-child th {\n",
       "        text-align: right;\n",
       "    }\n",
       "\n",
       "    .dataframe thead th {\n",
       "        text-align: left;\n",
       "    }\n",
       "\n",
       "    .dataframe tbody tr th {\n",
       "        vertical-align: top;\n",
       "    }\n",
       "</style>\n",
       "<table border=\"1\" class=\"dataframe\">\n",
       "  <thead>\n",
       "    <tr style=\"text-align: right;\">\n",
       "      <th></th>\n",
       "      <th>Date</th>\n",
       "      <th>Time</th>\n",
       "      <th>Latitude</th>\n",
       "      <th>Longitude</th>\n",
       "      <th>Type</th>\n",
       "      <th>Depth</th>\n",
       "      <th>Depth Error</th>\n",
       "      <th>Depth Seismic Stations</th>\n",
       "      <th>Magnitude</th>\n",
       "      <th>Magnitude Type</th>\n",
       "      <th>...</th>\n",
       "      <th>Magnitude Seismic Stations</th>\n",
       "      <th>Azimuthal Gap</th>\n",
       "      <th>Horizontal Distance</th>\n",
       "      <th>Horizontal Error</th>\n",
       "      <th>Root Mean Square</th>\n",
       "      <th>ID</th>\n",
       "      <th>Source</th>\n",
       "      <th>Location Source</th>\n",
       "      <th>Magnitude Source</th>\n",
       "      <th>Status</th>\n",
       "    </tr>\n",
       "  </thead>\n",
       "  <tbody>\n",
       "    <tr>\n",
       "      <th>0</th>\n",
       "      <td>01/02/1965</td>\n",
       "      <td>13:44:18</td>\n",
       "      <td>19.246</td>\n",
       "      <td>145.616</td>\n",
       "      <td>Earthquake</td>\n",
       "      <td>131.6</td>\n",
       "      <td>NaN</td>\n",
       "      <td>NaN</td>\n",
       "      <td>6.0</td>\n",
       "      <td>MW</td>\n",
       "      <td>...</td>\n",
       "      <td>NaN</td>\n",
       "      <td>NaN</td>\n",
       "      <td>NaN</td>\n",
       "      <td>NaN</td>\n",
       "      <td>NaN</td>\n",
       "      <td>ISCGEM860706</td>\n",
       "      <td>ISCGEM</td>\n",
       "      <td>ISCGEM</td>\n",
       "      <td>ISCGEM</td>\n",
       "      <td>Automatic</td>\n",
       "    </tr>\n",
       "    <tr>\n",
       "      <th>1</th>\n",
       "      <td>01/04/1965</td>\n",
       "      <td>11:29:49</td>\n",
       "      <td>1.863</td>\n",
       "      <td>127.352</td>\n",
       "      <td>Earthquake</td>\n",
       "      <td>80.0</td>\n",
       "      <td>NaN</td>\n",
       "      <td>NaN</td>\n",
       "      <td>5.8</td>\n",
       "      <td>MW</td>\n",
       "      <td>...</td>\n",
       "      <td>NaN</td>\n",
       "      <td>NaN</td>\n",
       "      <td>NaN</td>\n",
       "      <td>NaN</td>\n",
       "      <td>NaN</td>\n",
       "      <td>ISCGEM860737</td>\n",
       "      <td>ISCGEM</td>\n",
       "      <td>ISCGEM</td>\n",
       "      <td>ISCGEM</td>\n",
       "      <td>Automatic</td>\n",
       "    </tr>\n",
       "    <tr>\n",
       "      <th>2</th>\n",
       "      <td>01/05/1965</td>\n",
       "      <td>18:05:58</td>\n",
       "      <td>-20.579</td>\n",
       "      <td>-173.972</td>\n",
       "      <td>Earthquake</td>\n",
       "      <td>20.0</td>\n",
       "      <td>NaN</td>\n",
       "      <td>NaN</td>\n",
       "      <td>6.2</td>\n",
       "      <td>MW</td>\n",
       "      <td>...</td>\n",
       "      <td>NaN</td>\n",
       "      <td>NaN</td>\n",
       "      <td>NaN</td>\n",
       "      <td>NaN</td>\n",
       "      <td>NaN</td>\n",
       "      <td>ISCGEM860762</td>\n",
       "      <td>ISCGEM</td>\n",
       "      <td>ISCGEM</td>\n",
       "      <td>ISCGEM</td>\n",
       "      <td>Automatic</td>\n",
       "    </tr>\n",
       "    <tr>\n",
       "      <th>3</th>\n",
       "      <td>01/08/1965</td>\n",
       "      <td>18:49:43</td>\n",
       "      <td>-59.076</td>\n",
       "      <td>-23.557</td>\n",
       "      <td>Earthquake</td>\n",
       "      <td>15.0</td>\n",
       "      <td>NaN</td>\n",
       "      <td>NaN</td>\n",
       "      <td>5.8</td>\n",
       "      <td>MW</td>\n",
       "      <td>...</td>\n",
       "      <td>NaN</td>\n",
       "      <td>NaN</td>\n",
       "      <td>NaN</td>\n",
       "      <td>NaN</td>\n",
       "      <td>NaN</td>\n",
       "      <td>ISCGEM860856</td>\n",
       "      <td>ISCGEM</td>\n",
       "      <td>ISCGEM</td>\n",
       "      <td>ISCGEM</td>\n",
       "      <td>Automatic</td>\n",
       "    </tr>\n",
       "    <tr>\n",
       "      <th>4</th>\n",
       "      <td>01/09/1965</td>\n",
       "      <td>13:32:50</td>\n",
       "      <td>11.938</td>\n",
       "      <td>126.427</td>\n",
       "      <td>Earthquake</td>\n",
       "      <td>15.0</td>\n",
       "      <td>NaN</td>\n",
       "      <td>NaN</td>\n",
       "      <td>5.8</td>\n",
       "      <td>MW</td>\n",
       "      <td>...</td>\n",
       "      <td>NaN</td>\n",
       "      <td>NaN</td>\n",
       "      <td>NaN</td>\n",
       "      <td>NaN</td>\n",
       "      <td>NaN</td>\n",
       "      <td>ISCGEM860890</td>\n",
       "      <td>ISCGEM</td>\n",
       "      <td>ISCGEM</td>\n",
       "      <td>ISCGEM</td>\n",
       "      <td>Automatic</td>\n",
       "    </tr>\n",
       "  </tbody>\n",
       "</table>\n",
       "<p>5 rows × 21 columns</p>\n",
       "</div>"
      ],
      "text/plain": [
       "         Date      Time  Latitude  Longitude        Type  Depth  Depth Error  \\\n",
       "0  01/02/1965  13:44:18    19.246    145.616  Earthquake  131.6          NaN   \n",
       "1  01/04/1965  11:29:49     1.863    127.352  Earthquake   80.0          NaN   \n",
       "2  01/05/1965  18:05:58   -20.579   -173.972  Earthquake   20.0          NaN   \n",
       "3  01/08/1965  18:49:43   -59.076    -23.557  Earthquake   15.0          NaN   \n",
       "4  01/09/1965  13:32:50    11.938    126.427  Earthquake   15.0          NaN   \n",
       "\n",
       "   Depth Seismic Stations  Magnitude Magnitude Type    ...      \\\n",
       "0                     NaN        6.0             MW    ...       \n",
       "1                     NaN        5.8             MW    ...       \n",
       "2                     NaN        6.2             MW    ...       \n",
       "3                     NaN        5.8             MW    ...       \n",
       "4                     NaN        5.8             MW    ...       \n",
       "\n",
       "   Magnitude Seismic Stations  Azimuthal Gap  Horizontal Distance  \\\n",
       "0                         NaN            NaN                  NaN   \n",
       "1                         NaN            NaN                  NaN   \n",
       "2                         NaN            NaN                  NaN   \n",
       "3                         NaN            NaN                  NaN   \n",
       "4                         NaN            NaN                  NaN   \n",
       "\n",
       "   Horizontal Error  Root Mean Square            ID  Source Location Source  \\\n",
       "0               NaN               NaN  ISCGEM860706  ISCGEM          ISCGEM   \n",
       "1               NaN               NaN  ISCGEM860737  ISCGEM          ISCGEM   \n",
       "2               NaN               NaN  ISCGEM860762  ISCGEM          ISCGEM   \n",
       "3               NaN               NaN  ISCGEM860856  ISCGEM          ISCGEM   \n",
       "4               NaN               NaN  ISCGEM860890  ISCGEM          ISCGEM   \n",
       "\n",
       "  Magnitude Source     Status  \n",
       "0           ISCGEM  Automatic  \n",
       "1           ISCGEM  Automatic  \n",
       "2           ISCGEM  Automatic  \n",
       "3           ISCGEM  Automatic  \n",
       "4           ISCGEM  Automatic  \n",
       "\n",
       "[5 rows x 21 columns]"
      ]
     },
     "execution_count": 45,
     "metadata": {},
     "output_type": "execute_result"
    }
   ],
   "source": [
    "df.head()"
   ]
  },
  {
   "cell_type": "markdown",
   "metadata": {},
   "source": [
    "## Q1 - Manipulando o DataFrame\n",
    "\n",
    "Crie uma coluna chamada `Hemisfério` baseada na Latitude\n",
    "\n",
    "A regra de formação é a seguinte:\n",
    "\n",
    "Valor | Critério\n",
    "---|---\n",
    "Norte | Latitude positiva\n",
    "Sul | Latitude negativa"
   ]
  },
  {
   "cell_type": "code",
   "execution_count": 46,
   "metadata": {
    "collapsed": true
   },
   "outputs": [],
   "source": [
    "df.loc[(df.Latitude>0),\"Hemisfério\"] = \"Norte\"\n",
    "df.loc[(df.Latitude<0),\"Hemisfério\"] = \"Sul\""
   ]
  },
  {
   "cell_type": "markdown",
   "metadata": {},
   "source": [
    "## Q2 - Fit e Histograma\n",
    "\n",
    "Faça o Histograma da Magnitude. Interprete."
   ]
  },
  {
   "cell_type": "code",
   "execution_count": 47,
   "metadata": {},
   "outputs": [
    {
     "data": {
      "image/png": "[encoded data removed]",
      "text/plain": [
       "<matplotlib.figure.Figure at 0x1908f502780>"
      ]
     },
     "metadata": {},
     "output_type": "display_data"
    }
   ],
   "source": [
    "faixa=np.arange(5.5,9,0.1)\n",
    "plot = df.Magnitude.plot.hist(bins=faixa,title='Magnitude', normed=1, alpha=0.5,color=\"blue\",sharex=True, sharey=True)\n",
    "plt.ylabel('Densidade')\n",
    "plt.xlabel('Magnitude')\n",
    "plt.grid()"
   ]
  },
  {
   "cell_type": "markdown",
   "metadata": {},
   "source": [
    "###### Quanto maior a Magnitude, mais difícil de ocorrer é o terremoto."
   ]
  },
  {
   "cell_type": "markdown",
   "metadata": {},
   "source": [
    "Faça o fit de uma distribuição exponencial sobre os dados da Magnitude, achando os valores de **loc** e **scale**. Interprete loc e scale no caso da exponencial.\n",
    "Documentação: https://docs.scipy.org/doc/scipy/reference/generated/scipy.stats.expon.html"
   ]
  },
  {
   "cell_type": "code",
   "execution_count": 72,
   "metadata": {},
   "outputs": [
    {
     "name": "stdout",
     "output_type": "stream",
     "text": [
      "5.882530753460003\n",
      "0.4230656393157772\n"
     ]
    }
   ],
   "source": [
    "mu=df[\"Magnitude\"].mean()\n",
    "sigma=df[\"Magnitude\"].std()\n",
    "print(mu)\n",
    "print(sigma)"
   ]
  },
  {
   "cell_type": "markdown",
   "metadata": {},
   "source": [
    "Refaça o Histograma plotando a fdp (função densidade de probabilidade) da exponencial com os parâmetros achados no fit em cima. Cuidado com o domínio utilizado. Interprete."
   ]
  },
  {
   "cell_type": "code",
   "execution_count": 93,
   "metadata": {},
   "outputs": [
    {
     "data": {
      "text/plain": [
       "[<matplotlib.lines.Line2D at 0x1908e93cdd8>]"
      ]
     },
     "execution_count": 93,
     "metadata": {},
     "output_type": "execute_result"
    },
    {
     "data": {
      "image/png": "[encoded data removed]",
      "text/plain": [
       "<matplotlib.figure.Figure at 0x190a382a0f0>"
      ]
     },
     "metadata": {},
     "output_type": "display_data"
    }
   ],
   "source": [
    "x=sorted(stats.norm.rvs(size=10000, loc=mu, scale=sigma))\n",
    "faixa=np.arange(5.5,9,0.1)\n",
    "plot = df.Magnitude.plot.hist(bins=faixa,title='Magnitude', normed=1, alpha=0.5,color=\"blue\",sharex=True, sharey=True,histtype='stepfilled')\n",
    "plt.ylabel('Densidade')\n",
    "plt.xlabel('Magnitude')\n",
    "plt.grid()\n",
    "plt.plot(x, expon.pdf(x, loc=mu, scale=sigma), lw=3, alpha=0.6, color=\"red\")"
   ]
  },
  {
   "cell_type": "markdown",
   "metadata": {},
   "source": [
    "###### O fit faz com que a média seja o pico da exponencial (5.88) e decaia de acordo com seu desvio padrão de 0.42."
   ]
  },
  {
   "cell_type": "markdown",
   "metadata": {},
   "source": [
    "## Q3 - Tabela cruzada\n",
    "\n",
    "Faça uma tabela de cruzamento das variáveis `Hemisfério` e `Type`\n",
    "\n",
    "Sua tabela deve ser <font color=red> normalizada</font>"
   ]
  },
  {
   "cell_type": "code",
   "execution_count": 67,
   "metadata": {},
   "outputs": [
    {
     "data": {
      "text/html": [
       "<div>\n",
       "<style>\n",
       "    .dataframe thead tr:only-child th {\n",
       "        text-align: right;\n",
       "    }\n",
       "\n",
       "    .dataframe thead th {\n",
       "        text-align: left;\n",
       "    }\n",
       "\n",
       "    .dataframe tbody tr th {\n",
       "        vertical-align: top;\n",
       "    }\n",
       "</style>\n",
       "<table border=\"1\" class=\"dataframe\">\n",
       "  <thead>\n",
       "    <tr style=\"text-align: right;\">\n",
       "      <th>Hemisférios</th>\n",
       "      <th>Norte</th>\n",
       "      <th>Sul</th>\n",
       "    </tr>\n",
       "    <tr>\n",
       "      <th>Types</th>\n",
       "      <th></th>\n",
       "      <th></th>\n",
       "    </tr>\n",
       "  </thead>\n",
       "  <tbody>\n",
       "    <tr>\n",
       "      <th>Earthquake</th>\n",
       "      <td>45.1</td>\n",
       "      <td>54.9</td>\n",
       "    </tr>\n",
       "    <tr>\n",
       "      <th>Explosion</th>\n",
       "      <td>50.0</td>\n",
       "      <td>50.0</td>\n",
       "    </tr>\n",
       "    <tr>\n",
       "      <th>Nuclear Explosion</th>\n",
       "      <td>84.0</td>\n",
       "      <td>16.0</td>\n",
       "    </tr>\n",
       "    <tr>\n",
       "      <th>Rock Burst</th>\n",
       "      <td>0.0</td>\n",
       "      <td>100.0</td>\n",
       "    </tr>\n",
       "    <tr>\n",
       "      <th>All</th>\n",
       "      <td>45.4</td>\n",
       "      <td>54.6</td>\n",
       "    </tr>\n",
       "  </tbody>\n",
       "</table>\n",
       "</div>"
      ],
      "text/plain": [
       "Hemisférios        Norte    Sul\n",
       "Types                          \n",
       "Earthquake          45.1   54.9\n",
       "Explosion           50.0   50.0\n",
       "Nuclear Explosion   84.0   16.0\n",
       "Rock Burst           0.0  100.0\n",
       "All                 45.4   54.6"
      ]
     },
     "execution_count": 67,
     "metadata": {},
     "output_type": "execute_result"
    }
   ],
   "source": [
    "yt=pd.crosstab(df.Type, df.Hemisfério, margins=True, rownames=['Types'], colnames=['Hemisférios'], normalize=\"index\")*100\n",
    "yt=yt.round(decimals=1)\n",
    "yt"
   ]
  },
  {
   "cell_type": "markdown",
   "metadata": {},
   "source": [
    "### Q3.1 - Qual a probabilidade de ocorrer um terremoto no hemisfério norte?"
   ]
  },
  {
   "cell_type": "markdown",
   "metadata": {},
   "source": [
    "Adicione na célula abaixo o cálculo:"
   ]
  },
  {
   "cell_type": "markdown",
   "metadata": {
    "collapsed": true
   },
   "source": [
    "###### 45.4% de chance."
   ]
  },
  {
   "cell_type": "markdown",
   "metadata": {},
   "source": [
    "Explique o seu raciocínio"
   ]
  },
  {
   "cell_type": "markdown",
   "metadata": {
    "collapsed": true
   },
   "source": [
    "###### Na tabela a linha All indica a porcentagem total de terremotos em cada hemisfério, na coluna Norte a porcentagem é 45.4%."
   ]
  },
  {
   "cell_type": "markdown",
   "metadata": {},
   "source": [
    "### Q3.2 - Dado que aconteceu no Norte, qual a probabilidade de ele ter sido `Nuclear Explosion`? "
   ]
  },
  {
   "cell_type": "markdown",
   "metadata": {},
   "source": [
    "Calcule a resposta abaixo, ou explique como a encontrou"
   ]
  },
  {
   "cell_type": "markdown",
   "metadata": {},
   "source": [
    "Se for cálculo preencha a célula a seguir:"
   ]
  },
  {
   "cell_type": "code",
   "execution_count": 15,
   "metadata": {},
   "outputs": [
    {
     "data": {
      "text/html": [
       "<div>\n",
       "<style>\n",
       "    .dataframe thead tr:only-child th {\n",
       "        text-align: right;\n",
       "    }\n",
       "\n",
       "    .dataframe thead th {\n",
       "        text-align: left;\n",
       "    }\n",
       "\n",
       "    .dataframe tbody tr th {\n",
       "        vertical-align: top;\n",
       "    }\n",
       "</style>\n",
       "<table border=\"1\" class=\"dataframe\">\n",
       "  <thead>\n",
       "    <tr style=\"text-align: right;\">\n",
       "      <th>Hemisférios</th>\n",
       "      <th>Earthquake</th>\n",
       "      <th>Explosion</th>\n",
       "      <th>Nuclear Explosion</th>\n",
       "      <th>Rock Burst</th>\n",
       "    </tr>\n",
       "    <tr>\n",
       "      <th>Types</th>\n",
       "      <th></th>\n",
       "      <th></th>\n",
       "      <th></th>\n",
       "      <th></th>\n",
       "    </tr>\n",
       "  </thead>\n",
       "  <tbody>\n",
       "    <tr>\n",
       "      <th>Norte</th>\n",
       "      <td>98.6</td>\n",
       "      <td>0.0</td>\n",
       "      <td>1.4</td>\n",
       "      <td>0.0</td>\n",
       "    </tr>\n",
       "    <tr>\n",
       "      <th>Sul</th>\n",
       "      <td>99.8</td>\n",
       "      <td>0.0</td>\n",
       "      <td>0.2</td>\n",
       "      <td>0.0</td>\n",
       "    </tr>\n",
       "    <tr>\n",
       "      <th>All</th>\n",
       "      <td>99.2</td>\n",
       "      <td>0.0</td>\n",
       "      <td>0.7</td>\n",
       "      <td>0.0</td>\n",
       "    </tr>\n",
       "  </tbody>\n",
       "</table>\n",
       "</div>"
      ],
      "text/plain": [
       "Hemisférios  Earthquake  Explosion  Nuclear Explosion  Rock Burst\n",
       "Types                                                            \n",
       "Norte              98.6        0.0                1.4         0.0\n",
       "Sul                99.8        0.0                0.2         0.0\n",
       "All                99.2        0.0                0.7         0.0"
      ]
     },
     "execution_count": 15,
     "metadata": {},
     "output_type": "execute_result"
    }
   ],
   "source": [
    "xt=pd.crosstab(df.Hemisfério, df.Type, margins=True, rownames=['Types'], colnames=['Hemisférios'], normalize=\"index\")*100\n",
    "xt=xt.round(decimals=1)\n",
    "xt"
   ]
  },
  {
   "cell_type": "markdown",
   "metadata": {},
   "source": [
    "###### Na tabela a linha Coluna Nuclear Explosion indica a porcentagem de terremotos desse tipo em cada hemisfério, na linha Norte a porcentagem é 1.4%."
   ]
  },
  {
   "cell_type": "markdown",
   "metadata": {},
   "source": [
    "Se conseguir obter a resposta sem calcular, insira a resposta abaixo:\n",
    "\n",
    "###### * A probabilidade de ter sido `Nuclear Explosion` é 1.4%."
   ]
  },
  {
   "cell_type": "markdown",
   "metadata": {},
   "source": [
    "## Q4 - Análise bivariada\n",
    "\n",
    "Faça o *plot* de dispersão (*scatter plot*) entre as variáveis `Magnitude Error`  e `Depth`"
   ]
  },
  {
   "cell_type": "code",
   "execution_count": 36,
   "metadata": {},
   "outputs": [
    {
     "data": {
      "image/png": "[encoded data removed]",
      "text/plain": [
       "<matplotlib.figure.Figure at 0x1908f553208>"
      ]
     },
     "metadata": {},
     "output_type": "display_data"
    }
   ],
   "source": [
    "df.rename(columns={\"Magnitude Error\":\"MagError\"},inplace=True)\n",
    "\n",
    "todos = plt.scatter(x=df.Depth,y=df.MagError,c=\"red\",alpha=0.5)\n",
    "plt.ylabel('Magnitude Error')\n",
    "plt.xlabel('Depth')\n",
    "plt.title(\"Magnitude Error x Depth\")\n",
    "plt.show()"
   ]
  },
  {
   "cell_type": "markdown",
   "metadata": {},
   "source": [
    "Calcule a correlação entre as variáveis `Magnitude Error`  e `Depth`"
   ]
  },
  {
   "cell_type": "code",
   "execution_count": 62,
   "metadata": {},
   "outputs": [
    {
     "data": {
      "text/html": [
       "<div>\n",
       "<style>\n",
       "    .dataframe thead tr:only-child th {\n",
       "        text-align: right;\n",
       "    }\n",
       "\n",
       "    .dataframe thead th {\n",
       "        text-align: left;\n",
       "    }\n",
       "\n",
       "    .dataframe tbody tr th {\n",
       "        vertical-align: top;\n",
       "    }\n",
       "</style>\n",
       "<table border=\"1\" class=\"dataframe\">\n",
       "  <thead>\n",
       "    <tr style=\"text-align: right;\">\n",
       "      <th></th>\n",
       "      <th>Latitude</th>\n",
       "      <th>Longitude</th>\n",
       "      <th>Depth</th>\n",
       "      <th>Depth Error</th>\n",
       "      <th>Depth Seismic Stations</th>\n",
       "      <th>Magnitude</th>\n",
       "      <th>Magnitude Error</th>\n",
       "      <th>Magnitude Seismic Stations</th>\n",
       "      <th>Azimuthal Gap</th>\n",
       "      <th>Horizontal Distance</th>\n",
       "      <th>Horizontal Error</th>\n",
       "      <th>Root Mean Square</th>\n",
       "    </tr>\n",
       "  </thead>\n",
       "  <tbody>\n",
       "    <tr>\n",
       "      <th>Latitude</th>\n",
       "      <td>1.000000</td>\n",
       "      <td>0.203546</td>\n",
       "      <td>-0.081020</td>\n",
       "      <td>0.007080</td>\n",
       "      <td>0.433815</td>\n",
       "      <td>0.034987</td>\n",
       "      <td>0.113208</td>\n",
       "      <td>0.315075</td>\n",
       "      <td>0.050794</td>\n",
       "      <td>-0.396768</td>\n",
       "      <td>0.015625</td>\n",
       "      <td>-0.214762</td>\n",
       "    </tr>\n",
       "    <tr>\n",
       "      <th>Longitude</th>\n",
       "      <td>0.203546</td>\n",
       "      <td>1.000000</td>\n",
       "      <td>-0.085861</td>\n",
       "      <td>0.020552</td>\n",
       "      <td>0.015924</td>\n",
       "      <td>0.038579</td>\n",
       "      <td>-0.214609</td>\n",
       "      <td>0.148510</td>\n",
       "      <td>-0.233097</td>\n",
       "      <td>-0.131313</td>\n",
       "      <td>-0.093827</td>\n",
       "      <td>-0.028061</td>\n",
       "    </tr>\n",
       "    <tr>\n",
       "      <th>Depth</th>\n",
       "      <td>-0.081020</td>\n",
       "      <td>-0.085861</td>\n",
       "      <td>1.000000</td>\n",
       "      <td>-0.074609</td>\n",
       "      <td>0.174663</td>\n",
       "      <td>0.023457</td>\n",
       "      <td>-0.076918</td>\n",
       "      <td>-0.015254</td>\n",
       "      <td>-0.171162</td>\n",
       "      <td>-0.073832</td>\n",
       "      <td>-0.016467</td>\n",
       "      <td>-0.134002</td>\n",
       "    </tr>\n",
       "    <tr>\n",
       "      <th>Depth Error</th>\n",
       "      <td>0.007080</td>\n",
       "      <td>0.020552</td>\n",
       "      <td>-0.074609</td>\n",
       "      <td>1.000000</td>\n",
       "      <td>-0.320579</td>\n",
       "      <td>-0.135880</td>\n",
       "      <td>0.618254</td>\n",
       "      <td>-0.093292</td>\n",
       "      <td>0.357704</td>\n",
       "      <td>-0.077423</td>\n",
       "      <td>0.644593</td>\n",
       "      <td>0.094398</td>\n",
       "    </tr>\n",
       "    <tr>\n",
       "      <th>Depth Seismic Stations</th>\n",
       "      <td>0.433815</td>\n",
       "      <td>0.015924</td>\n",
       "      <td>0.174663</td>\n",
       "      <td>-0.320579</td>\n",
       "      <td>1.000000</td>\n",
       "      <td>0.440582</td>\n",
       "      <td>-0.385993</td>\n",
       "      <td>0.813374</td>\n",
       "      <td>-0.420556</td>\n",
       "      <td>0.056619</td>\n",
       "      <td>-0.214959</td>\n",
       "      <td>-0.158620</td>\n",
       "    </tr>\n",
       "    <tr>\n",
       "      <th>Magnitude</th>\n",
       "      <td>0.034987</td>\n",
       "      <td>0.038579</td>\n",
       "      <td>0.023457</td>\n",
       "      <td>-0.135880</td>\n",
       "      <td>0.440582</td>\n",
       "      <td>1.000000</td>\n",
       "      <td>0.135573</td>\n",
       "      <td>-0.003972</td>\n",
       "      <td>-0.233579</td>\n",
       "      <td>-0.092609</td>\n",
       "      <td>-0.078406</td>\n",
       "      <td>0.075865</td>\n",
       "    </tr>\n",
       "    <tr>\n",
       "      <th>Magnitude Error</th>\n",
       "      <td>0.113208</td>\n",
       "      <td>-0.214609</td>\n",
       "      <td>-0.076918</td>\n",
       "      <td>0.618254</td>\n",
       "      <td>-0.385993</td>\n",
       "      <td>0.135573</td>\n",
       "      <td>1.000000</td>\n",
       "      <td>-0.334062</td>\n",
       "      <td>0.567411</td>\n",
       "      <td>-0.076744</td>\n",
       "      <td>0.617721</td>\n",
       "      <td>0.032616</td>\n",
       "    </tr>\n",
       "    <tr>\n",
       "      <th>Magnitude Seismic Stations</th>\n",
       "      <td>0.315075</td>\n",
       "      <td>0.148510</td>\n",
       "      <td>-0.015254</td>\n",
       "      <td>-0.093292</td>\n",
       "      <td>0.813374</td>\n",
       "      <td>-0.003972</td>\n",
       "      <td>-0.334062</td>\n",
       "      <td>1.000000</td>\n",
       "      <td>-0.334864</td>\n",
       "      <td>-0.117606</td>\n",
       "      <td>-0.093143</td>\n",
       "      <td>-0.167473</td>\n",
       "    </tr>\n",
       "    <tr>\n",
       "      <th>Azimuthal Gap</th>\n",
       "      <td>0.050794</td>\n",
       "      <td>-0.233097</td>\n",
       "      <td>-0.171162</td>\n",
       "      <td>0.357704</td>\n",
       "      <td>-0.420556</td>\n",
       "      <td>-0.233579</td>\n",
       "      <td>0.567411</td>\n",
       "      <td>-0.334864</td>\n",
       "      <td>1.000000</td>\n",
       "      <td>-0.033482</td>\n",
       "      <td>0.396450</td>\n",
       "      <td>-0.056217</td>\n",
       "    </tr>\n",
       "    <tr>\n",
       "      <th>Horizontal Distance</th>\n",
       "      <td>-0.396768</td>\n",
       "      <td>-0.131313</td>\n",
       "      <td>-0.073832</td>\n",
       "      <td>-0.077423</td>\n",
       "      <td>0.056619</td>\n",
       "      <td>-0.092609</td>\n",
       "      <td>-0.076744</td>\n",
       "      <td>-0.117606</td>\n",
       "      <td>-0.033482</td>\n",
       "      <td>1.000000</td>\n",
       "      <td>0.126877</td>\n",
       "      <td>0.035778</td>\n",
       "    </tr>\n",
       "    <tr>\n",
       "      <th>Horizontal Error</th>\n",
       "      <td>0.015625</td>\n",
       "      <td>-0.093827</td>\n",
       "      <td>-0.016467</td>\n",
       "      <td>0.644593</td>\n",
       "      <td>-0.214959</td>\n",
       "      <td>-0.078406</td>\n",
       "      <td>0.617721</td>\n",
       "      <td>-0.093143</td>\n",
       "      <td>0.396450</td>\n",
       "      <td>0.126877</td>\n",
       "      <td>1.000000</td>\n",
       "      <td>0.157842</td>\n",
       "    </tr>\n",
       "    <tr>\n",
       "      <th>Root Mean Square</th>\n",
       "      <td>-0.214762</td>\n",
       "      <td>-0.028061</td>\n",
       "      <td>-0.134002</td>\n",
       "      <td>0.094398</td>\n",
       "      <td>-0.158620</td>\n",
       "      <td>0.075865</td>\n",
       "      <td>0.032616</td>\n",
       "      <td>-0.167473</td>\n",
       "      <td>-0.056217</td>\n",
       "      <td>0.035778</td>\n",
       "      <td>0.157842</td>\n",
       "      <td>1.000000</td>\n",
       "    </tr>\n",
       "  </tbody>\n",
       "</table>\n",
       "</div>"
      ],
      "text/plain": [
       "                            Latitude  Longitude     Depth  Depth Error  \\\n",
       "Latitude                    1.000000   0.203546 -0.081020     0.007080   \n",
       "Longitude                   0.203546   1.000000 -0.085861     0.020552   \n",
       "Depth                      -0.081020  -0.085861  1.000000    -0.074609   \n",
       "Depth Error                 0.007080   0.020552 -0.074609     1.000000   \n",
       "Depth Seismic Stations      0.433815   0.015924  0.174663    -0.320579   \n",
       "Magnitude                   0.034987   0.038579  0.023457    -0.135880   \n",
       "Magnitude Error             0.113208  -0.214609 -0.076918     0.618254   \n",
       "Magnitude Seismic Stations  0.315075   0.148510 -0.015254    -0.093292   \n",
       "Azimuthal Gap               0.050794  -0.233097 -0.171162     0.357704   \n",
       "Horizontal Distance        -0.396768  -0.131313 -0.073832    -0.077423   \n",
       "Horizontal Error            0.015625  -0.093827 -0.016467     0.644593   \n",
       "Root Mean Square           -0.214762  -0.028061 -0.134002     0.094398   \n",
       "\n",
       "                            Depth Seismic Stations  Magnitude  \\\n",
       "Latitude                                  0.433815   0.034987   \n",
       "Longitude                                 0.015924   0.038579   \n",
       "Depth                                     0.174663   0.023457   \n",
       "Depth Error                              -0.320579  -0.135880   \n",
       "Depth Seismic Stations                    1.000000   0.440582   \n",
       "Magnitude                                 0.440582   1.000000   \n",
       "Magnitude Error                          -0.385993   0.135573   \n",
       "Magnitude Seismic Stations                0.813374  -0.003972   \n",
       "Azimuthal Gap                            -0.420556  -0.233579   \n",
       "Horizontal Distance                       0.056619  -0.092609   \n",
       "Horizontal Error                         -0.214959  -0.078406   \n",
       "Root Mean Square                         -0.158620   0.075865   \n",
       "\n",
       "                            Magnitude Error  Magnitude Seismic Stations  \\\n",
       "Latitude                           0.113208                    0.315075   \n",
       "Longitude                         -0.214609                    0.148510   \n",
       "Depth                             -0.076918                   -0.015254   \n",
       "Depth Error                        0.618254                   -0.093292   \n",
       "Depth Seismic Stations            -0.385993                    0.813374   \n",
       "Magnitude                          0.135573                   -0.003972   \n",
       "Magnitude Error                    1.000000                   -0.334062   \n",
       "Magnitude Seismic Stations        -0.334062                    1.000000   \n",
       "Azimuthal Gap                      0.567411                   -0.334864   \n",
       "Horizontal Distance               -0.076744                   -0.117606   \n",
       "Horizontal Error                   0.617721                   -0.093143   \n",
       "Root Mean Square                   0.032616                   -0.167473   \n",
       "\n",
       "                            Azimuthal Gap  Horizontal Distance  \\\n",
       "Latitude                         0.050794            -0.396768   \n",
       "Longitude                       -0.233097            -0.131313   \n",
       "Depth                           -0.171162            -0.073832   \n",
       "Depth Error                      0.357704            -0.077423   \n",
       "Depth Seismic Stations          -0.420556             0.056619   \n",
       "Magnitude                       -0.233579            -0.092609   \n",
       "Magnitude Error                  0.567411            -0.076744   \n",
       "Magnitude Seismic Stations      -0.334864            -0.117606   \n",
       "Azimuthal Gap                    1.000000            -0.033482   \n",
       "Horizontal Distance             -0.033482             1.000000   \n",
       "Horizontal Error                 0.396450             0.126877   \n",
       "Root Mean Square                -0.056217             0.035778   \n",
       "\n",
       "                            Horizontal Error  Root Mean Square  \n",
       "Latitude                            0.015625         -0.214762  \n",
       "Longitude                          -0.093827         -0.028061  \n",
       "Depth                              -0.016467         -0.134002  \n",
       "Depth Error                         0.644593          0.094398  \n",
       "Depth Seismic Stations             -0.214959         -0.158620  \n",
       "Magnitude                          -0.078406          0.075865  \n",
       "Magnitude Error                     0.617721          0.032616  \n",
       "Magnitude Seismic Stations         -0.093143         -0.167473  \n",
       "Azimuthal Gap                       0.396450         -0.056217  \n",
       "Horizontal Distance                 0.126877          0.035778  \n",
       "Horizontal Error                    1.000000          0.157842  \n",
       "Root Mean Square                    0.157842          1.000000  "
      ]
     },
     "execution_count": 62,
     "metadata": {},
     "output_type": "execute_result"
    }
   ],
   "source": [
    "df.corr(method=\"pearson\", min_periods=1)\n"
   ]
  },
  {
   "cell_type": "markdown",
   "metadata": {},
   "source": [
    "Explique o que significa o valor da correlação calculada acima? "
   ]
  },
  {
   "cell_type": "markdown",
   "metadata": {
    "collapsed": true
   },
   "source": [
    "###### O valor quer dizer que há uma correlação negativa de 7% entre Magnitude Error e Depth, ou seja, a cada 1 Magnitude Error que aumenta, a Depth cai em 0.07."
   ]
  },
  {
   "cell_type": "markdown",
   "metadata": {},
   "source": [
    "## Q5 - Describe e boxplot\n",
    "\n",
    "Faça o `describe` e o *boxplot* da `Latitude` e da `Longitude`. Explique os valores"
   ]
  },
  {
   "cell_type": "code",
   "execution_count": 89,
   "metadata": {},
   "outputs": [
    {
     "data": {
      "text/plain": [
       "count    23412.000000\n",
       "mean         1.679033\n",
       "std         30.113183\n",
       "min        -77.080000\n",
       "25%        -18.653000\n",
       "50%         -3.568500\n",
       "75%         26.190750\n",
       "max         86.005000\n",
       "Name: Latitude, dtype: float64"
      ]
     },
     "execution_count": 89,
     "metadata": {},
     "output_type": "execute_result"
    }
   ],
   "source": [
    "df.Latitude.describe()"
   ]
  },
  {
   "cell_type": "code",
   "execution_count": 90,
   "metadata": {},
   "outputs": [
    {
     "data": {
      "text/plain": [
       "count    23412.000000\n",
       "mean        39.639961\n",
       "std        125.511959\n",
       "min       -179.997000\n",
       "25%        -76.349750\n",
       "50%        103.982000\n",
       "75%        145.026250\n",
       "max        179.998000\n",
       "Name: Longitude, dtype: float64"
      ]
     },
     "execution_count": 90,
     "metadata": {},
     "output_type": "execute_result"
    }
   ],
   "source": [
    "df.Longitude.describe()"
   ]
  },
  {
   "cell_type": "code",
   "execution_count": 27,
   "metadata": {},
   "outputs": [
    {
     "data": {
      "image/png": "[encoded data removed]",
      "text/plain": [
       "<matplotlib.figure.Figure at 0x1908f20b198>"
      ]
     },
     "metadata": {},
     "output_type": "display_data"
    },
    {
     "data": {
      "image/png": "[encoded data removed]",
      "text/plain": [
       "<matplotlib.figure.Figure at 0x1908f5d0668>"
      ]
     },
     "metadata": {},
     "output_type": "display_data"
    }
   ],
   "source": [
    "plot = df.Latitude.plot(kind=\"box\")\n",
    "plt.ylabel('Latitude')\n",
    "plt.title(\"Latitude\")\n",
    "plt.grid()\n",
    "plt.show()\n",
    "\n",
    "plot = df.Longitude.plot(kind=\"box\")\n",
    "plt.ylabel('Longitude')\n",
    "plt.title(\"Longitude\")\n",
    "plt.grid()\n",
    "plt.show()"
   ]
  },
  {
   "cell_type": "markdown",
   "metadata": {},
   "source": [
    "###### Nos boxplots a linha verde determina a média das latitudes e longitudes onde ocorreram mais terremotos. Pela média de latitude, pode-se dizer que o número de terremotos é bem distribuído entre os dois hemisférios, uma vez que a média está bem próxima de 0º, ou seja, o Equador. Não obstante, é razoável dizer que estes abalos estão concentrados entre os 20º e os -20º, uma vez que a caixa (que representa 50% de todos terremotos) está disposta sobre esses ângulos. Por outro lado, na longitude é possível afirmar que a distribuição é mais concentrada no hemisfério oriental por uma grande margem, visto que a caixa esta disposta entre 150º leste e apenas 75º oeste; Além disso, essa conclusão é apoiada pelo fato da média de todos os terremotos estar aproximadamente no meridiano que cruza a Indochina, China, Mongólia e Rússia, países localizados ao leste do globo terrestre.   "
   ]
  },
  {
   "cell_type": "markdown",
   "metadata": {},
   "source": [
    "## Q6 - Tirando conclusões com base nos dados\n",
    "\n",
    "Em um certo lugar já ocorreram abalos com *Magnitude Type* `MB` e *Type* `Nuclear Explosion`. \n",
    " \n",
    "Responda: \n",
    "    * É mais provável que tenha sido no norte ou no sul? \n",
    "    \n",
    "Assuma que os Magnitude Type e Type são independentes\n"
   ]
  },
  {
   "cell_type": "code",
   "execution_count": 68,
   "metadata": {},
   "outputs": [
    {
     "data": {
      "text/html": [
       "<div>\n",
       "<style>\n",
       "    .dataframe thead tr:only-child th {\n",
       "        text-align: right;\n",
       "    }\n",
       "\n",
       "    .dataframe thead th {\n",
       "        text-align: left;\n",
       "    }\n",
       "\n",
       "    .dataframe tbody tr th {\n",
       "        vertical-align: top;\n",
       "    }\n",
       "</style>\n",
       "<table border=\"1\" class=\"dataframe\">\n",
       "  <thead>\n",
       "    <tr style=\"text-align: right;\">\n",
       "      <th>Hemisférios</th>\n",
       "      <th>Norte</th>\n",
       "      <th>Sul</th>\n",
       "    </tr>\n",
       "    <tr>\n",
       "      <th>Types</th>\n",
       "      <th></th>\n",
       "      <th></th>\n",
       "    </tr>\n",
       "  </thead>\n",
       "  <tbody>\n",
       "    <tr>\n",
       "      <th>Earthquake</th>\n",
       "      <td>45.1</td>\n",
       "      <td>54.9</td>\n",
       "    </tr>\n",
       "    <tr>\n",
       "      <th>Explosion</th>\n",
       "      <td>50.0</td>\n",
       "      <td>50.0</td>\n",
       "    </tr>\n",
       "    <tr>\n",
       "      <th>Nuclear Explosion</th>\n",
       "      <td>84.0</td>\n",
       "      <td>16.0</td>\n",
       "    </tr>\n",
       "    <tr>\n",
       "      <th>Rock Burst</th>\n",
       "      <td>0.0</td>\n",
       "      <td>100.0</td>\n",
       "    </tr>\n",
       "    <tr>\n",
       "      <th>All</th>\n",
       "      <td>45.4</td>\n",
       "      <td>54.6</td>\n",
       "    </tr>\n",
       "  </tbody>\n",
       "</table>\n",
       "</div>"
      ],
      "text/plain": [
       "Hemisférios        Norte    Sul\n",
       "Types                          \n",
       "Earthquake          45.1   54.9\n",
       "Explosion           50.0   50.0\n",
       "Nuclear Explosion   84.0   16.0\n",
       "Rock Burst           0.0  100.0\n",
       "All                 45.4   54.6"
      ]
     },
     "execution_count": 68,
     "metadata": {},
     "output_type": "execute_result"
    }
   ],
   "source": [
    "yt"
   ]
  },
  {
   "cell_type": "code",
   "execution_count": 69,
   "metadata": {},
   "outputs": [
    {
     "data": {
      "text/html": [
       "<div>\n",
       "<style>\n",
       "    .dataframe thead tr:only-child th {\n",
       "        text-align: right;\n",
       "    }\n",
       "\n",
       "    .dataframe thead th {\n",
       "        text-align: left;\n",
       "    }\n",
       "\n",
       "    .dataframe tbody tr th {\n",
       "        vertical-align: top;\n",
       "    }\n",
       "</style>\n",
       "<table border=\"1\" class=\"dataframe\">\n",
       "  <thead>\n",
       "    <tr style=\"text-align: right;\">\n",
       "      <th>Hemisférios</th>\n",
       "      <th>Norte</th>\n",
       "      <th>Sul</th>\n",
       "    </tr>\n",
       "    <tr>\n",
       "      <th>MagTypes</th>\n",
       "      <th></th>\n",
       "      <th></th>\n",
       "    </tr>\n",
       "  </thead>\n",
       "  <tbody>\n",
       "    <tr>\n",
       "      <th>MB</th>\n",
       "      <td>44.8</td>\n",
       "      <td>55.2</td>\n",
       "    </tr>\n",
       "    <tr>\n",
       "      <th>MD</th>\n",
       "      <td>100.0</td>\n",
       "      <td>0.0</td>\n",
       "    </tr>\n",
       "    <tr>\n",
       "      <th>MH</th>\n",
       "      <td>100.0</td>\n",
       "      <td>0.0</td>\n",
       "    </tr>\n",
       "    <tr>\n",
       "      <th>ML</th>\n",
       "      <td>100.0</td>\n",
       "      <td>0.0</td>\n",
       "    </tr>\n",
       "    <tr>\n",
       "      <th>MS</th>\n",
       "      <td>45.0</td>\n",
       "      <td>55.0</td>\n",
       "    </tr>\n",
       "    <tr>\n",
       "      <th>MW</th>\n",
       "      <td>47.7</td>\n",
       "      <td>52.3</td>\n",
       "    </tr>\n",
       "    <tr>\n",
       "      <th>MWB</th>\n",
       "      <td>45.2</td>\n",
       "      <td>54.8</td>\n",
       "    </tr>\n",
       "    <tr>\n",
       "      <th>MWC</th>\n",
       "      <td>42.1</td>\n",
       "      <td>57.9</td>\n",
       "    </tr>\n",
       "    <tr>\n",
       "      <th>MWR</th>\n",
       "      <td>46.2</td>\n",
       "      <td>53.8</td>\n",
       "    </tr>\n",
       "    <tr>\n",
       "      <th>MWW</th>\n",
       "      <td>44.3</td>\n",
       "      <td>55.7</td>\n",
       "    </tr>\n",
       "    <tr>\n",
       "      <th>All</th>\n",
       "      <td>45.3</td>\n",
       "      <td>54.7</td>\n",
       "    </tr>\n",
       "  </tbody>\n",
       "</table>\n",
       "</div>"
      ],
      "text/plain": [
       "Hemisférios  Norte   Sul\n",
       "MagTypes                \n",
       "MB            44.8  55.2\n",
       "MD           100.0   0.0\n",
       "MH           100.0   0.0\n",
       "ML           100.0   0.0\n",
       "MS            45.0  55.0\n",
       "MW            47.7  52.3\n",
       "MWB           45.2  54.8\n",
       "MWC           42.1  57.9\n",
       "MWR           46.2  53.8\n",
       "MWW           44.3  55.7\n",
       "All           45.3  54.7"
      ]
     },
     "execution_count": 69,
     "metadata": {},
     "output_type": "execute_result"
    }
   ],
   "source": [
    "df.rename(columns={\"Magnitude Type\":\"MagType\"},inplace=True)\n",
    "\n",
    "zt=pd.crosstab(df.MagType, df.Hemisfério, margins=True, rownames=['MagTypes'], colnames=['Hemisférios'], normalize=\"index\")*100\n",
    "zt=zt.round(decimals=1)\n",
    "zt"
   ]
  },
  {
   "cell_type": "code",
   "execution_count": 71,
   "metadata": {},
   "outputs": [
    {
     "name": "stdout",
     "output_type": "stream",
     "text": [
      "37.632\n",
      "8.832\n",
      "É mais provável que tenha sido no Norte!\n"
     ]
    }
   ],
   "source": [
    "chance_N=0.84*0.448\n",
    "chance_S=0.16*0.552\n",
    "print(chance_N*100)\n",
    "print(chance_S*100)\n",
    "if chance_N>chance_S:\n",
    "    print(\"É mais provável que tenha sido no Norte!\")\n",
    "if chance_N<chance_S:\n",
    "    print(\"É mais provável que tenha sido no Sul!\")"
   ]
  },
  {
   "cell_type": "code",
   "execution_count": null,
   "metadata": {
    "collapsed": true
   },
   "outputs": [],
   "source": []
  }
 ],
 "metadata": {
  "kernelspec": {
   "display_name": "Python 3",
   "language": "python",
   "name": "python3"
  },
  "language_info": {
   "codemirror_mode": {
    "name": "ipython",
    "version": 3
   },
   "file_extension": ".py",
   "mimetype": "text/x-python",
   "name": "python",
   "nbconvert_exporter": "python",
   "pygments_lexer": "ipython3",
   "version": "3.6.1"
  }
 },
 "nbformat": 4,
 "nbformat_minor": 1
}
